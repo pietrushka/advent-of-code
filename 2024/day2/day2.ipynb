{
 "cells": [
  {
   "cell_type": "code",
   "execution_count": 2,
   "metadata": {},
   "outputs": [],
   "source": [
    "f = open(\"day2-data.txt\", \"r\")\n",
    "data = f.read()\n",
    "lines  = data.split(\"\\n\")"
   ]
  },
  {
   "cell_type": "code",
   "execution_count": 16,
   "metadata": {},
   "outputs": [
    {
     "data": {
      "text/plain": [
       "708"
      ]
     },
     "execution_count": 16,
     "metadata": {},
     "output_type": "execute_result"
    }
   ],
   "source": [
    "safe_report = 0\n",
    "\n",
    "def check_sequence(line, lives=1):\n",
    "    prev_value = None\n",
    "    direction = None\n",
    "    for idx, part in enumerate(line):\n",
    "        if prev_value is None:\n",
    "            prev_value = part\n",
    "            continue\n",
    "\n",
    "        diff = part - prev_value\n",
    "        abs_diff = abs(diff)\n",
    "\n",
    "        # Check if the difference is invalid\n",
    "        if abs_diff > 3 or abs_diff < 1:\n",
    "            if lives > 0:\n",
    "                # Remove current element and retry\n",
    "                new_line = line[:idx] + line[idx+1:]  # Create a copy without the current element\n",
    "                return check_sequence(new_line, lives - 1)\n",
    "            else:\n",
    "                return False\n",
    "        \n",
    "        if direction is None:\n",
    "            direction = 1 if diff > 0 else -1\n",
    "            prev_value = part\n",
    "            continue\n",
    "\n",
    "        new_direction = 1 if diff > 0 else -1\n",
    "        if new_direction != direction:\n",
    "            if lives > 0:\n",
    "                # Remove current element and retry\n",
    "                new_line = line[:idx] + line[idx+1:]  # Create a copy without the current element\n",
    "                return check_sequence(new_line, lives - 1)\n",
    "            else:\n",
    "                return False\n",
    "\n",
    "        prev_value = part\n",
    "\n",
    "    return True\n",
    "\n",
    "\n",
    "for line in lines:\n",
    "    int_parts = list(map(int, line.split(' ')))\n",
    "    is_safe = check_sequence(int_parts)\n",
    "    if is_safe:\n",
    "        safe_report += 1\n",
    "\n",
    "safe_report\n",
    "\n",
    "\n"
   ]
  },
  {
   "cell_type": "code",
   "execution_count": 20,
   "metadata": {},
   "outputs": [
    {
     "data": {
      "text/plain": [
       "True"
      ]
     },
     "execution_count": 20,
     "metadata": {},
     "output_type": "execute_result"
    }
   ],
   "source": [
    "check_sequence([43, 44, 44, 46,47])"
   ]
  }
 ],
 "metadata": {
  "kernelspec": {
   "display_name": "base",
   "language": "python",
   "name": "python3"
  },
  "language_info": {
   "codemirror_mode": {
    "name": "ipython",
    "version": 3
   },
   "file_extension": ".py",
   "mimetype": "text/x-python",
   "name": "python",
   "nbconvert_exporter": "python",
   "pygments_lexer": "ipython3",
   "version": "3.12.7"
  }
 },
 "nbformat": 4,
 "nbformat_minor": 2
}
